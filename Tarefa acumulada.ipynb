{
 "cells": [
  {
   "cell_type": "code",
   "execution_count": 10,
   "metadata": {},
   "outputs": [
    {
     "name": "stdout",
     "output_type": "stream",
     "text": [
      "Esta letra é vogal\n"
     ]
    }
   ],
   "source": [
    "# Faça um programa que verifique se uma letra digitada é vogal ou consoante\n",
    "vogal = ['a', 'e', 'i', 'o', 'u']\n",
    "letraAnalisada = 'consoante'\n",
    "letra = input('Digite uma letra')\n",
    "for v in vogal:\n",
    "    if (letra == v):\n",
    "        letraAnalisada = 'vogal'\n",
    "        break\n",
    "print('Esta letra é', letraAnalisada)"
   ]
  },
  {
   "cell_type": "code",
   "execution_count": 16,
   "metadata": {},
   "outputs": [
    {
     "name": "stdout",
     "output_type": "stream",
     "text": [
      "Terceiro produto é o mais barato com o preço de R$ 40.0\n"
     ]
    }
   ],
   "source": [
    "# Faça um programa que pergunte o preço de três produtos e informe qual produto você deve comprar,\n",
    "# sabendo que a decisão é sempre pelo mais barato.\n",
    "produto1 = float(input('Digite o preco do primeiro produto'))\n",
    "produto2 = float(input('Digite o preco do segundo produto'))\n",
    "produto3 = float(input('Digite o preco do terceiro produto'))\n",
    "\n",
    "\n",
    "if (produto1 < produto2 and produto1 < produto3):\n",
    "    print('Primeiro produto é o mais barato com o preço de R$', produto1)\n",
    "elif (produto2 < produto1 and produto2 < produto3):\n",
    "    print('Segundo produto é o mais barato com o preço de R$', produto2)\n",
    "else:\n",
    "    print('Terceiro produto é o mais barato com o preço de R$', produto3)\n",
    "    "
   ]
  },
  {
   "cell_type": "code",
   "execution_count": 22,
   "metadata": {},
   "outputs": [
    {
     "name": "stdout",
     "output_type": "stream",
     "text": [
      "A ordem decrescente dos números são: [19, 5, 3]\n"
     ]
    }
   ],
   "source": [
    "# Faça um programa que leia três números e os mostre em ordem decrescente\n",
    "num1 = int(input('Digite um numero'))\n",
    "num2 = int(input('Digite um numero'))\n",
    "num3 = int(input('Digite um numero'))\n",
    "ordenado = []\n",
    "if (num1 > num2 and num1 > num3):\n",
    "    if (num2 > num3):\n",
    "        ordenado = [num1, num2, num3]\n",
    "    else:\n",
    "        ordenado = [num1, num3, num2]\n",
    "elif (num2 > num1 and num2 > num3):\n",
    "    if (num1 > num3):\n",
    "        ordenado = [num2, num1, num3]\n",
    "    else:\n",
    "        ordenado = [num2, num3, num1]\n",
    "elif (num3 > num1 and num3 > num2):\n",
    "    if (num1 > num2):\n",
    "        ordenado = [num3, num1, num2]\n",
    "    else:\n",
    "        ordenado = [num3, num2, num1]\n",
    "\n",
    "print('A ordem decrescente dos números são:', ordenado)\n"
   ]
  },
  {
   "cell_type": "code",
   "execution_count": 26,
   "metadata": {},
   "outputs": [
    {
     "name": "stdout",
     "output_type": "stream",
     "text": [
      "Bom dia!\n"
     ]
    }
   ],
   "source": [
    "# Turno de estudo\n",
    "vespertino = 'V'\n",
    "noturno = 'N'\n",
    "matutino = 'M'\n",
    "turno = input('Digite a letra de seu turno')\n",
    "dia = 'Bom dia!'\n",
    "tarde = 'Boa tarde!'\n",
    "noite = 'Boa noite!'\n",
    "erro = 'Valor Inválido!'\n",
    "if (turno == vespertino):\n",
    "    print(tarde)\n",
    "elif (turno == matutino):\n",
    "    print(dia)\n",
    "elif (turno == noturno):\n",
    "    print(noite)\n",
    "else:\n",
    "    print(erro)"
   ]
  },
  {
   "cell_type": "code",
   "execution_count": 35,
   "metadata": {},
   "outputs": [
    {
     "name": "stdout",
     "output_type": "stream",
     "text": [
      "Valor inválido!\n"
     ]
    }
   ],
   "source": [
    "#Selecionar dia da semana\n",
    "diasDaSemana = ['Domingo', 'Segunda', 'Terça', 'Quarta', 'Quinta', 'Sexta', 'Sábado']\n",
    "dia = int(input('Escolha o dia da semana'))\n",
    "if (dia <= len(diasDaSemana) and dia > 0):\n",
    "    print(diasDaSemana[dia-1])\n",
    "else:\n",
    "    print('Valor inválido!')"
   ]
  },
  {
   "cell_type": "code",
   "execution_count": 39,
   "metadata": {},
   "outputs": [
    {
     "name": "stdout",
     "output_type": "stream",
     "text": [
      "As notas foram: 9 e 10 . O conceito é A e o aluno foi APROVADO\n"
     ]
    }
   ],
   "source": [
    "nota1 = int(input('Digite a primeira nota'))\n",
    "nota2 = int(input('Digite a segunda nota'))\n",
    "media = (nota1 + nota2) / 2\n",
    "conceito = ''\n",
    "aprovacao = 'REPROVADO'\n",
    "if (media >= 6):\n",
    "    aprovacao = 'APROVADO'\n",
    "\n",
    "if (media < 4):\n",
    "    conceito = 'E'\n",
    "elif (media < 6):\n",
    "    conceito = 'D'\n",
    "elif (media < 7.5):\n",
    "    conceito = 'C'\n",
    "elif (media < 9):\n",
    "    conceito = 'B'\n",
    "elif (media <= 10):\n",
    "    conceito = 'A'\n",
    "\n",
    "print('As notas foram:', nota1, 'e', nota2, '. O conceito é', conceito, 'e o aluno foi', aprovacao)\n"
   ]
  },
  {
   "cell_type": "code",
   "execution_count": 44,
   "metadata": {},
   "outputs": [
    {
     "name": "stdout",
     "output_type": "stream",
     "text": [
      "O ano 2024 é bissexto\n"
     ]
    }
   ],
   "source": [
    "#Calculo de ano bissexto\n",
    "# O ano que não termina em 00 é bissexto se for divisível por 4. Os anos que terminam em 00\n",
    "# só serão bissexto se forem divisiveis por 400\n",
    "ano = int(input('Digite um ano'))\n",
    "if (ano % 4 == 0 and ano % 100 != 0) or (ano % 400 == 0):\n",
    "    print('O ano', ano, 'é bissexto')\n",
    "else:\n",
    "    print('O ano', ano, 'não é bissexto')"
   ]
  },
  {
   "cell_type": "code",
   "execution_count": 50,
   "metadata": {},
   "outputs": [
    {
     "name": "stdout",
     "output_type": "stream",
     "text": [
      "Resultado: -2 . Este numero é par , negativo  e inteiro\n"
     ]
    }
   ],
   "source": [
    "num1 = int(input('Digite um numero'))\n",
    "num2 = int(input('Digite um numero'))\n",
    "operacao = input('Digite a operação desejada (soma, subtração, multiplicação, divisão, exponenciação)')\n",
    "if operacao == 'soma':\n",
    "    resultado = num1 + num2\n",
    "elif operacao == 'subtração':\n",
    "    resultado = num1 - num2\n",
    "elif operacao == 'multiplicação':\n",
    "    resultado = num1 * num2\n",
    "elif operacao == 'divisão':\n",
    "    resultado = num1 / num2\n",
    "elif operacao == 'exponenciação':\n",
    "    resultado = num1 ** num2\n",
    "\n",
    "if resultado % 2 == 0:\n",
    "    par_ou_impar = \"par\"\n",
    "else:\n",
    "    par_ou_impar = \"ímpar\"\n",
    "    \n",
    "if resultado >= 0:\n",
    "    positivo_ou_negativo = \"positivo\"\n",
    "else:\n",
    "    positivo_ou_negativo = \"negativo\"\n",
    "    \n",
    "if type(resultado) == int:\n",
    "    inteiro_ou_decimal = \"inteiro\"\n",
    "else:\n",
    "    inteiro_ou_decimal = \"decimal\"\n",
    "\n",
    "print('Resultado:', resultado, '. Este numero é', par_ou_impar, ',', positivo_ou_negativo, ' e', inteiro_ou_decimal)\n"
   ]
  },
  {
   "cell_type": "code",
   "execution_count": 51,
   "metadata": {},
   "outputs": [
    {
     "name": "stdout",
     "output_type": "stream",
     "text": [
      "Sua idade é 80\n"
     ]
    }
   ],
   "source": [
    "idade = int(input('Digite sua idade'))\n",
    "if (idade > 0 and idade <= 150):\n",
    "    print('Sua idade é', idade)\n",
    "else:\n",
    "    print('idade inválida')"
   ]
  },
  {
   "cell_type": "code",
   "execution_count": 54,
   "metadata": {},
   "outputs": [
    {
     "name": "stdout",
     "output_type": "stream",
     "text": [
      "A soma é: 15 e a média é 3.0\n"
     ]
    }
   ],
   "source": [
    "lista = []\n",
    "for i in range(5):\n",
    "    num = int(input('Digite um numero'))\n",
    "    lista.append(num)\n",
    "\n",
    "soma = 0\n",
    "for n in lista:\n",
    "    soma += n\n",
    "\n",
    "media = soma / len(lista)\n",
    "\n",
    "print('A soma é:', soma, 'e a média é', media)"
   ]
  },
  {
   "cell_type": "code",
   "execution_count": null,
   "metadata": {},
   "outputs": [],
   "source": []
  },
  {
   "cell_type": "code",
   "execution_count": null,
   "metadata": {},
   "outputs": [],
   "source": []
  },
  {
   "cell_type": "code",
   "execution_count": null,
   "metadata": {},
   "outputs": [],
   "source": []
  }
 ],
 "metadata": {
  "kernelspec": {
   "display_name": "Python 3",
   "language": "python",
   "name": "python3"
  },
  "language_info": {
   "codemirror_mode": {
    "name": "ipython",
    "version": 3
   },
   "file_extension": ".py",
   "mimetype": "text/x-python",
   "name": "python",
   "nbconvert_exporter": "python",
   "pygments_lexer": "ipython3",
   "version": "3.12.3"
  }
 },
 "nbformat": 4,
 "nbformat_minor": 2
}
