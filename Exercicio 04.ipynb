{
 "cells": [
  {
   "cell_type": "code",
   "execution_count": 1,
   "metadata": {},
   "outputs": [
    {
     "name": "stdout",
     "output_type": "stream",
     "text": [
      "Os números dados foram: 5 3 8.2\n"
     ]
    }
   ],
   "source": [
    "# 1) Faça um Programa que peça 2 números inteiros e um número real. Calcule e mostre:\n",
    "num1 = int(input(\"Digite um numero inteiro\"))\n",
    "num2 = int(input(\"Digite outro numero inteiro\"))\n",
    "num3 = float(input(\"Digite um numero flutuante\"))\n",
    "print(\"Os números dados foram:\", num1, num2, num3)"
   ]
  },
  {
   "cell_type": "code",
   "execution_count": 2,
   "metadata": {},
   "outputs": [
    {
     "name": "stdout",
     "output_type": "stream",
     "text": [
      "15.0\n"
     ]
    }
   ],
   "source": [
    "# a)O produto do dobro do primeiro com metade do segundo.\n",
    "produto = num1*2\n",
    "metade = num2/2\n",
    "resultado = produto * metade\n",
    "print(resultado)"
   ]
  },
  {
   "cell_type": "code",
   "execution_count": 4,
   "metadata": {},
   "outputs": [
    {
     "name": "stdout",
     "output_type": "stream",
     "text": [
      "8.2 551.3679999999998\n",
      "566.3679999999998\n"
     ]
    }
   ],
   "source": [
    "# b)A soma do triplo do primeiro com o terceiro. o terceiro elevado ao cubo.\n",
    "triplo = num1*3\n",
    "cubo = num3**3\n",
    "print(num3, cubo)\n",
    "print(triplo+cubo)"
   ]
  },
  {
   "cell_type": "code",
   "execution_count": 7,
   "metadata": {},
   "outputs": [
    {
     "name": "stdout",
     "output_type": "stream",
     "text": [
      "5.0\n"
     ]
    }
   ],
   "source": [
    "# 2) Faça um Programa que peça dois números e imprima o maior deles.\n",
    "num1 = float(input(\"Digite um numero\"))\n",
    "num2 = float(input(\"Digite outro numero\"))\n",
    "if (num1 >= num2):\n",
    "    print(\"O maior número é:\", num1)\n",
    "else:\n",
    "    print(num2)"
   ]
  },
  {
   "cell_type": "code",
   "execution_count": 9,
   "metadata": {},
   "outputs": [
    {
     "name": "stdout",
     "output_type": "stream",
     "text": [
      "Positivo\n"
     ]
    }
   ],
   "source": [
    "# 3) Faça um Programa que peça um valor e mostre na tela se o valor é positivo ou negativo.\n",
    "num = int(input(\"Digite um numero\"))\n",
    "if (num >= 0):\n",
    "    print(\"Positivo\")\n",
    "else:\n",
    "    print(\"Negativo\")"
   ]
  },
  {
   "cell_type": "code",
   "execution_count": 11,
   "metadata": {},
   "outputs": [
    {
     "name": "stdout",
     "output_type": "stream",
     "text": [
      "A média é: 5.5\n",
      "Reprovado\n"
     ]
    }
   ],
   "source": [
    "# 4) Faça um programa para a leitura de duas notas parciais de um aluno. O programa deve calcular a média alcançada por aluno e apresentar o resultado \"Aprovado\" ou \"Reprovado\". Considere que a escola adota média 7.00.\n",
    "nota1 = float(input(\"Primeira nota\"))\n",
    "nota2 = float(input(\"Segunda nota\"))\n",
    "media = (nota1 + nota2) / 2\n",
    "print(\"A média é:\", media)\n",
    "if (media >= 7.0):\n",
    "    print(\"Aprovado\")\n",
    "else:\n",
    "    print(\"Reprovado\")"
   ]
  },
  {
   "cell_type": "code",
   "execution_count": 21,
   "metadata": {},
   "outputs": [
    {
     "name": "stdout",
     "output_type": "stream",
     "text": [
      "4.0\n"
     ]
    }
   ],
   "source": [
    "#5)Faça um Programa que leia três números e mostre o maior deles.\n",
    "num1 = float(input(\"Digite um numero\"))\n",
    "num2 = float(input(\"Digite um numero\"))\n",
    "num3 = float(input(\"Digite um numero\"))\n",
    "\n",
    "if (num1 > num2 and num1 > num3):\n",
    "    print(num1)\n",
    "elif (num2 > num3):\n",
    "    print(num2)\n",
    "else:\n",
    "    print(num3)"
   ]
  },
  {
   "cell_type": "code",
   "execution_count": null,
   "metadata": {},
   "outputs": [],
   "source": []
  },
  {
   "cell_type": "code",
   "execution_count": null,
   "metadata": {},
   "outputs": [],
   "source": []
  }
 ],
 "metadata": {
  "kernelspec": {
   "display_name": "Python 3",
   "language": "python",
   "name": "python3"
  },
  "language_info": {
   "codemirror_mode": {
    "name": "ipython",
    "version": 3
   },
   "file_extension": ".py",
   "mimetype": "text/x-python",
   "name": "python",
   "nbconvert_exporter": "python",
   "pygments_lexer": "ipython3",
   "version": "3.11.9"
  }
 },
 "nbformat": 4,
 "nbformat_minor": 2
}
