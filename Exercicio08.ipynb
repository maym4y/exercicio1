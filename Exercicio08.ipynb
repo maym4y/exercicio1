{
 "cells": [
  {
   "cell_type": "code",
   "execution_count": 13,
   "metadata": {},
   "outputs": [
    {
     "name": "stdout",
     "output_type": "stream",
     "text": [
      "5 patinhos foram passear, além das montanhas para brincar. A mamãe gritou: quá, quá, quá, quá, mas só 4 patinhos voltaram de lá.\n",
      "4 patinhos foram passear, além das montanhas para brincar. A mamãe gritou: quá, quá, quá, quá, mas só 3 patinhos voltaram de lá.\n",
      "3 patinhos foram passear, além das montanhas para brincar. A mamãe gritou: quá, quá, quá, quá, mas só 2 patinhos voltaram de lá.\n",
      "2 patinhos foram passear, além das montanhas para brincar. A mamãe gritou: quá, quá, quá, quá, mas só 1 patinhos voltaram de lá.\n",
      "1 patinhos foram passear, além das montanhas para brincar. A mamãe gritou: quá, quá, quá, quá, mas só 0 patinhos voltaram de lá.\n",
      "A mamãe patinha foi procurar, além das montanhas na beira do mar, a mamãe gritou: quá, quá, quá, quá, e 5 patinhos voltaram de lá\n"
     ]
    }
   ],
   "source": [
    "n = [5, 4, 3, 2, 1]\n",
    "\n",
    "for i in n:\n",
    "    print(i, 'patinhos foram passear, além das montanhas para brincar. A mamãe gritou: quá, quá, quá, quá, mas só', (i-1), 'patinhos voltaram de lá.')\n",
    "\n",
    "print('A mamãe patinha foi procurar, além das montanhas na beira do mar, a mamãe gritou: quá, quá, quá, quá, e', n[0], 'patinhos voltaram de lá')"
   ]
  },
  {
   "cell_type": "code",
   "execution_count": 15,
   "metadata": {},
   "outputs": [
    {
     "name": "stdout",
     "output_type": "stream",
     "text": [
      "5 patinhos foram passear, além das montanhas para brincar. A mamãe gritou: quá, quá, quá, quá, mas só 4 patinhos voltaram de lá.\n",
      "4 patinhos foram passear, além das montanhas para brincar. A mamãe gritou: quá, quá, quá, quá, mas só 3 patinhos voltaram de lá.\n",
      "3 patinhos foram passear, além das montanhas para brincar. A mamãe gritou: quá, quá, quá, quá, mas só 2 patinhos voltaram de lá.\n",
      "2 patinhos foram passear, além das montanhas para brincar. A mamãe gritou: quá, quá, quá, quá, mas só 1 patinhos voltaram de lá.\n",
      "1 patinhos foram passear, além das montanhas para brincar. A mamãe gritou: quá, quá, quá, quá, mas só 0 patinhos voltaram de lá.\n",
      "A mamãe patinha foi procurar, além das montanhas na beira do mar, a mamãe gritou: quá, quá, quá, quá, e 5 patinhos voltaram de lá\n"
     ]
    }
   ],
   "source": [
    "n = 5\n",
    "while n > 0:\n",
    "    print(n, 'patinhos foram passear, além das montanhas para brincar. A mamãe gritou: quá, quá, quá, quá, mas só', (n-1), 'patinhos voltaram de lá.')\n",
    "    n -= 1\n",
    "print('A mamãe patinha foi procurar, além das montanhas na beira do mar, a mamãe gritou: quá, quá, quá, quá, e', 5, 'patinhos voltaram de lá')"
   ]
  },
  {
   "cell_type": "code",
   "execution_count": 16,
   "metadata": {},
   "outputs": [
    {
     "name": "stdout",
     "output_type": "stream",
     "text": [
      "Mariana conta 1 ... Mariana conta 1 , é [1]\n",
      "Mariana conta 2 ... Mariana conta 2 , é [1, 2]\n",
      "Mariana conta 3 ... Mariana conta 3 , é [1, 2, 3]\n",
      "Mariana conta 4 ... Mariana conta 4 , é [1, 2, 3, 4]\n",
      "Mariana conta 5 ... Mariana conta 5 , é [1, 2, 3, 4, 5]\n",
      "Mariana conta 6 ... Mariana conta 6 , é [1, 2, 3, 4, 5, 6]\n",
      "Mariana conta 7 ... Mariana conta 7 , é [1, 2, 3, 4, 5, 6, 7]\n",
      "Mariana conta 8 ... Mariana conta 8 , é [1, 2, 3, 4, 5, 6, 7, 8]\n",
      "Mariana conta 9 ... Mariana conta 9 , é [1, 2, 3, 4, 5, 6, 7, 8, 9]\n",
      "Mariana conta 10 ... Mariana conta 10 , é [1, 2, 3, 4, 5, 6, 7, 8, 9, 10]\n"
     ]
    }
   ],
   "source": [
    "i = [1, 2, 3, 4, 5, 6, 7, 8, 9, 10]\n",
    "for n in i:\n",
    "    print('Mariana conta', n, '... Mariana conta', n, ', é', i[:n])"
   ]
  },
  {
   "cell_type": "code",
   "execution_count": 19,
   "metadata": {},
   "outputs": [
    {
     "name": "stdout",
     "output_type": "stream",
     "text": [
      "Mariana conta 1 ... Mariana conta 1 , é [1]\n",
      "Mariana conta 2 ... Mariana conta 2 , é [1, 2]\n",
      "Mariana conta 3 ... Mariana conta 3 , é [1, 2, 3]\n",
      "Mariana conta 4 ... Mariana conta 4 , é [1, 2, 3, 4]\n",
      "Mariana conta 5 ... Mariana conta 5 , é [1, 2, 3, 4, 5]\n",
      "Mariana conta 6 ... Mariana conta 6 , é [1, 2, 3, 4, 5, 6]\n",
      "Mariana conta 7 ... Mariana conta 7 , é [1, 2, 3, 4, 5, 6, 7]\n",
      "Mariana conta 8 ... Mariana conta 8 , é [1, 2, 3, 4, 5, 6, 7, 8]\n",
      "Mariana conta 9 ... Mariana conta 9 , é [1, 2, 3, 4, 5, 6, 7, 8, 9]\n",
      "Mariana conta 10 ... Mariana conta 10 , é [1, 2, 3, 4, 5, 6, 7, 8, 9, 10]\n"
     ]
    }
   ],
   "source": [
    "i = [1]\n",
    "for n in range(1, 11):\n",
    "    print('Mariana conta', n, '... Mariana conta', n, ', é', i)\n",
    "    i += [n+1]"
   ]
  },
  {
   "cell_type": "code",
   "execution_count": 20,
   "metadata": {},
   "outputs": [
    {
     "name": "stdout",
     "output_type": "stream",
     "text": [
      "1 elefantes incomodam muita gente, 2 elefantes incomodam muito mais\n",
      "2 elefantes incomodam muita gente, 3 elefantes incomodam muito mais\n",
      "3 elefantes incomodam muita gente, 4 elefantes incomodam muito mais\n",
      "4 elefantes incomodam muita gente, 5 elefantes incomodam muito mais\n",
      "5 elefantes incomodam muita gente, 6 elefantes incomodam muito mais\n",
      "6 elefantes incomodam muita gente, 7 elefantes incomodam muito mais\n",
      "7 elefantes incomodam muita gente, 8 elefantes incomodam muito mais\n",
      "8 elefantes incomodam muita gente, 9 elefantes incomodam muito mais\n",
      "9 elefantes incomodam muita gente, 10 elefantes incomodam muito mais\n",
      "10 elefantes incomodam muita gente, 11 elefantes incomodam muito mais\n"
     ]
    }
   ],
   "source": [
    "n = [1, 2, 3, 4, 5, 6, 7, 8, 9, 10]\n",
    "for e in n:\n",
    "    print(e, 'elefantes incomodam muita gente,', e+1, 'elefantes incomodam muito mais')"
   ]
  },
  {
   "cell_type": "code",
   "execution_count": null,
   "metadata": {},
   "outputs": [],
   "source": []
  },
  {
   "cell_type": "code",
   "execution_count": null,
   "metadata": {},
   "outputs": [],
   "source": []
  },
  {
   "cell_type": "code",
   "execution_count": null,
   "metadata": {},
   "outputs": [],
   "source": []
  }
 ],
 "metadata": {
  "kernelspec": {
   "display_name": "Python 3",
   "language": "python",
   "name": "python3"
  },
  "language_info": {
   "codemirror_mode": {
    "name": "ipython",
    "version": 3
   },
   "file_extension": ".py",
   "mimetype": "text/x-python",
   "name": "python",
   "nbconvert_exporter": "python",
   "pygments_lexer": "ipython3",
   "version": "3.11.9"
  }
 },
 "nbformat": 4,
 "nbformat_minor": 2
}
