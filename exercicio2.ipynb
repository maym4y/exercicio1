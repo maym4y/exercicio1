{
 "cells": [
  {
   "cell_type": "code",
   "execution_count": 3,
   "metadata": {},
   "outputs": [
    {
     "name": "stdout",
     "output_type": "stream",
     "text": [
      "May\n"
     ]
    }
   ],
   "source": [
    "nome = input(\"Digite seu nome: \")\n",
    "print(nome)"
   ]
  },
  {
   "cell_type": "code",
   "execution_count": 4,
   "metadata": {},
   "outputs": [
    {
     "name": "stdout",
     "output_type": "stream",
     "text": [
      "26\n"
     ]
    }
   ],
   "source": [
    "idade = input(\"Digite sua idade: \")\n",
    "print(idade)"
   ]
  },
  {
   "cell_type": "code",
   "execution_count": 8,
   "metadata": {},
   "outputs": [
    {
     "name": "stdout",
     "output_type": "stream",
     "text": [
      "Olá, May sua idade é 26\n"
     ]
    }
   ],
   "source": [
    "print(\"Olá,\", nome, \"sua idade é\", idade)"
   ]
  },
  {
   "cell_type": "code",
   "execution_count": 9,
   "metadata": {},
   "outputs": [
    {
     "data": {
      "text/plain": [
       "str"
      ]
     },
     "execution_count": 9,
     "metadata": {},
     "output_type": "execute_result"
    }
   ],
   "source": [
    "type(nome)"
   ]
  },
  {
   "cell_type": "code",
   "execution_count": 10,
   "metadata": {},
   "outputs": [
    {
     "data": {
      "text/plain": [
       "str"
      ]
     },
     "execution_count": 10,
     "metadata": {},
     "output_type": "execute_result"
    }
   ],
   "source": [
    "type(idade)"
   ]
  },
  {
   "cell_type": "code",
   "execution_count": 13,
   "metadata": {},
   "outputs": [
    {
     "data": {
      "text/plain": [
       "int"
      ]
     },
     "execution_count": 13,
     "metadata": {},
     "output_type": "execute_result"
    }
   ],
   "source": [
    "idade = int(idade)\n",
    "type(idade)"
   ]
  },
  {
   "cell_type": "code",
   "execution_count": 15,
   "metadata": {},
   "outputs": [
    {
     "name": "stdout",
     "output_type": "stream",
     "text": [
      "25\n"
     ]
    },
    {
     "data": {
      "text/plain": [
       "int"
      ]
     },
     "execution_count": 15,
     "metadata": {},
     "output_type": "execute_result"
    }
   ],
   "source": [
    "idade = int(input(\"Digite sua idade: \"))\n",
    "print(idade)\n",
    "type(idade)"
   ]
  },
  {
   "cell_type": "code",
   "execution_count": 18,
   "metadata": {},
   "outputs": [
    {
     "name": "stdout",
     "output_type": "stream",
     "text": [
      "1 igual a 2 False\n",
      "1 maior que 2 False\n",
      "1 menor que 2 True\n",
      "1 maior ou igual a 2 False\n",
      "1 menor ou igual a 2 True\n"
     ]
    }
   ],
   "source": [
    "valor1 = input(\"Digite um numero inteiro:\")\n",
    "valor2 = input(\"De novo, por favor\")\n",
    "print(\"1 igual a 2\", valor1 == valor2)\n",
    "print(\"1 maior que 2\", valor1 > valor2)\n",
    "print(\"1 menor que 2\", valor1 < valor2)\n",
    "print(\"1 maior ou igual a 2\", valor1 >= valor2)\n",
    "print(\"1 menor ou igual a 2\", valor1 <= valor2)"
   ]
  },
  {
   "cell_type": "code",
   "execution_count": 26,
   "metadata": {},
   "outputs": [],
   "source": [
    "senha = \"123456\""
   ]
  },
  {
   "cell_type": "code",
   "execution_count": 27,
   "metadata": {},
   "outputs": [
    {
     "name": "stdout",
     "output_type": "stream",
     "text": [
      "False\n"
     ]
    }
   ],
   "source": [
    "_senha = input('Digite sua senha:')\n",
    "print(senha == _senha)"
   ]
  },
  {
   "cell_type": "code",
   "execution_count": 25,
   "metadata": {},
   "outputs": [
    {
     "name": "stdout",
     "output_type": "stream",
     "text": [
      "False\n"
     ]
    }
   ],
   "source": [
    "numero = 10\n",
    "print(numero > 0 and numero < 10)\n"
   ]
  },
  {
   "cell_type": "code",
   "execution_count": null,
   "metadata": {},
   "outputs": [],
   "source": [
    "numero = 10\n",
    "print(numero > 0 and numero <= 10)"
   ]
  },
  {
   "cell_type": "code",
   "execution_count": 42,
   "metadata": {},
   "outputs": [
    {
     "name": "stdout",
     "output_type": "stream",
     "text": [
      "Login aprovado\n"
     ]
    }
   ],
   "source": [
    "senha = \"123456\"\n",
    "_senha = input(\"Digite sua senha:\")\n",
    "\n",
    "if (senha == _senha):\n",
    "    print('Login aprovado')\n",
    "else:\n",
    "    print('Acesso negado')"
   ]
  },
  {
   "cell_type": "code",
   "execution_count": 44,
   "metadata": {},
   "outputs": [
    {
     "name": "stdout",
     "output_type": "stream",
     "text": [
      "Isso é ímpar, tá querendo me enganar?\n"
     ]
    }
   ],
   "source": [
    "#solicitar um número inteiro\n",
    "numero = int(input('Digite um numero inteiro'))\n",
    "#avaliar se é par ou ímpar\n",
    "if (numero % 2 == 0):\n",
    "    print('É par, é pedra, é o fim do caminho')\n",
    "else:\n",
    "    print('Isso é ímpar, tá querendo me enganar?')\n"
   ]
  },
  {
   "cell_type": "code",
   "execution_count": 48,
   "metadata": {},
   "outputs": [
    {
     "name": "stdout",
     "output_type": "stream",
     "text": [
      "você ganhou 10% de desconto\n"
     ]
    }
   ],
   "source": [
    "cupom = input('digite o cupom:')\n",
    "if (cupom == 'aula1' or cupom == 'aula2'):\n",
    "    print('você ganhou 10% de desconto')\n",
    "else:\n",
    "    print('Cupom inválido')"
   ]
  },
  {
   "cell_type": "code",
   "execution_count": null,
   "metadata": {},
   "outputs": [],
   "source": []
  },
  {
   "cell_type": "code",
   "execution_count": null,
   "metadata": {},
   "outputs": [],
   "source": []
  }
 ],
 "metadata": {
  "kernelspec": {
   "display_name": "Python 3",
   "language": "python",
   "name": "python3"
  },
  "language_info": {
   "codemirror_mode": {
    "name": "ipython",
    "version": 3
   },
   "file_extension": ".py",
   "mimetype": "text/x-python",
   "name": "python",
   "nbconvert_exporter": "python",
   "pygments_lexer": "ipython3",
   "version": "3.11.8"
  }
 },
 "nbformat": 4,
 "nbformat_minor": 2
}
