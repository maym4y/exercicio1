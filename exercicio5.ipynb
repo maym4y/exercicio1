{
 "cells": [
  {
   "cell_type": "code",
   "execution_count": 6,
   "metadata": {},
   "outputs": [
    {
     "name": "stdout",
     "output_type": "stream",
     "text": [
      "O imposto deste carro é: 1.0\n"
     ]
    }
   ],
   "source": [
    "taxaPre = 0.01\n",
    "taxaPos = 0.015\n",
    "preco = float(input(\"Digite o valor do seu carro\"))\n",
    "ano = int(input(\"Digite o ano do seu carro\"))\n",
    "if (ano < 1990):\n",
    "    imposto = preco * taxaPre\n",
    "else:\n",
    "    imposto = preco * taxaPos\n",
    "print(\"O imposto deste carro é:\", imposto)"
   ]
  },
  {
   "cell_type": "code",
   "execution_count": 20,
   "metadata": {},
   "outputs": [
    {
     "name": "stdout",
     "output_type": "stream",
     "text": [
      "O funcionário tinha o salário de 1000.0, seu novo salário é 1300.0, e o aumento foi de 300.0\n"
     ]
    }
   ],
   "source": [
    "salario = float(input(\"Digite o salário do funcionário\"))\n",
    "cargo = int(input(\"Digite o código do cargo\"))\n",
    "gerente = 101\n",
    "engenheiro = 102\n",
    "tecnico = 103\n",
    "aumento = 0\n",
    "if (cargo == gerente):\n",
    "    aumento = salario + (salario*0.1)\n",
    "elif (cargo == engenheiro):\n",
    "    aumento = salario + (salario*0.2)\n",
    "elif (cargo == tecnico):\n",
    "    aumento = salario + (salario*0.3)\n",
    "else:\n",
    "    aumento = salario + (salario*0.4)\n",
    "\n",
    "print(f\"O funcionário tinha o salário de {salario}, seu novo salário é {aumento}, e o aumento foi de\", aumento - salario)"
   ]
  },
  {
   "cell_type": "code",
   "execution_count": null,
   "metadata": {},
   "outputs": [],
   "source": []
  },
  {
   "cell_type": "code",
   "execution_count": null,
   "metadata": {},
   "outputs": [],
   "source": []
  },
  {
   "cell_type": "code",
   "execution_count": null,
   "metadata": {},
   "outputs": [],
   "source": []
  },
  {
   "cell_type": "code",
   "execution_count": null,
   "metadata": {},
   "outputs": [],
   "source": []
  },
  {
   "cell_type": "code",
   "execution_count": null,
   "metadata": {},
   "outputs": [],
   "source": []
  }
 ],
 "metadata": {
  "kernelspec": {
   "display_name": "Python 3",
   "language": "python",
   "name": "python3"
  },
  "language_info": {
   "codemirror_mode": {
    "name": "ipython",
    "version": 3
   },
   "file_extension": ".py",
   "mimetype": "text/x-python",
   "name": "python",
   "nbconvert_exporter": "python",
   "pygments_lexer": "ipython3",
   "version": "3.11.9"
  }
 },
 "nbformat": 4,
 "nbformat_minor": 2
}
