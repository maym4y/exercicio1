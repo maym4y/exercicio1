{
 "cells": [
  {
   "cell_type": "code",
   "execution_count": 3,
   "metadata": {},
   "outputs": [
    {
     "name": "stdout",
     "output_type": "stream",
     "text": [
      "O número informado foi 72\n"
     ]
    }
   ],
   "source": [
    "number = input(\"Digite um número\")\n",
    "print(\"O número informado foi\", number)"
   ]
  },
  {
   "cell_type": "code",
   "execution_count": 4,
   "metadata": {},
   "outputs": [
    {
     "name": "stdout",
     "output_type": "stream",
     "text": [
      "18\n"
     ]
    }
   ],
   "source": [
    "number1 = int(input(\"Digite um número\"))\n",
    "number2 = int(input(\"Digite outro número\"))\n",
    "print(number1 + number2)"
   ]
  },
  {
   "cell_type": "code",
   "execution_count": 6,
   "metadata": {},
   "outputs": [
    {
     "name": "stdout",
     "output_type": "stream",
     "text": [
      "A média do aluno é: 5.0\n"
     ]
    }
   ],
   "source": [
    "nota1 = int(input(\"Digite a primeira nota\"))\n",
    "nota2 = int(input(\"Digite a segunda nota\"))\n",
    "nota3 = int(input(\"Digite a terceira nota\"))\n",
    "media = (nota1 + nota2 + nota3) / 3\n",
    "print(\"A média do aluno é:\", media)"
   ]
  },
  {
   "cell_type": "code",
   "execution_count": 7,
   "metadata": {},
   "outputs": [
    {
     "name": "stdout",
     "output_type": "stream",
     "text": [
      "Seu salário mensal é 1200.0\n"
     ]
    }
   ],
   "source": [
    "salarioHora = float(input(\"Digite seu salário por hora\"))\n",
    "horas = int(input(\"Digite a quantidade de horas trabalhadas no mês\"))\n",
    "salarioMensal = salarioHora * horas\n",
    "print(\"Seu salário mensal é\", salarioMensal)"
   ]
  },
  {
   "cell_type": "code",
   "execution_count": 3,
   "metadata": {},
   "outputs": [
    {
     "name": "stdout",
     "output_type": "stream",
     "text": [
      "João excedeu o limite! Ele deverá pagar R$ 4.0\n"
     ]
    }
   ],
   "source": [
    "# pegar o peso pescado por joão\n",
    "peso_pescado = float(input(\"Digite o peso dos peixes pescados\"))\n",
    "\n",
    "# estabelecer peso limite\n",
    "peso_limite = 50\n",
    "\n",
    "# estabelecer multa por quilo excedido\n",
    "multa_quilo = 4\n",
    "\n",
    "#descobrir se multa é necessário\n",
    "if (peso_pescado > peso_limite):\n",
    "    # calcular excesso de peso\n",
    "    excesso = peso_pescado - peso_limite\n",
    "    # calcular multa total\n",
    "    multa_total = excesso * multa_quilo\n",
    "    #declarar multa total\n",
    "    print(\"João excedeu o limite! Ele deverá pagar R$\", multa_total)\n",
    "else:\n",
    "    # João passou a inspeção\n",
    "    print(\"João está dentro do limite de peso.\")\n",
    "\n",
    "    "
   ]
  },
  {
   "cell_type": "code",
   "execution_count": null,
   "metadata": {},
   "outputs": [],
   "source": []
  },
  {
   "cell_type": "code",
   "execution_count": null,
   "metadata": {},
   "outputs": [],
   "source": []
  },
  {
   "cell_type": "code",
   "execution_count": null,
   "metadata": {},
   "outputs": [],
   "source": []
  }
 ],
 "metadata": {
  "kernelspec": {
   "display_name": "Python 3",
   "language": "python",
   "name": "python3"
  },
  "language_info": {
   "codemirror_mode": {
    "name": "ipython",
    "version": 3
   },
   "file_extension": ".py",
   "mimetype": "text/x-python",
   "name": "python",
   "nbconvert_exporter": "python",
   "pygments_lexer": "ipython3",
   "version": "3.11.9"
  }
 },
 "nbformat": 4,
 "nbformat_minor": 2
}
